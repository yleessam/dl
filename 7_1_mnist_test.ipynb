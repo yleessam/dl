{
  "cells": [
    {
      "cell_type": "markdown",
      "metadata": {
        "id": "view-in-github",
        "colab_type": "text"
      },
      "source": [
        "<a href=\"https://colab.research.google.com/github/yleessam/dl/blob/main/7_1_mnist_test.ipynb\" target=\"_parent\"><img src=\"https://colab.research.google.com/assets/colab-badge.svg\" alt=\"Open In Colab\"/></a>"
      ]
    },
    {
      "cell_type": "markdown",
      "metadata": {
        "id": "vhpNJiSUHpsw"
      },
      "source": [
        "# 16장 이미지 인식의 꽃, 컨볼루션 신경망(CNN)"
      ]
    },
    {
      "cell_type": "markdown",
      "metadata": {
        "id": "gQkcG_c9Hpsz"
      },
      "source": [
        "## 1. 이미지를 인식하는 원리"
      ]
    },
    {
      "cell_type": "code",
      "execution_count": 1,
      "metadata": {
        "id": "VfsapogMHps0",
        "outputId": "e4971e60-bef1-4883-a1f1-49319f469f55",
        "colab": {
          "base_uri": "https://localhost:8080/"
        }
      },
      "outputs": [
        {
          "output_type": "stream",
          "name": "stdout",
          "text": [
            "Downloading data from https://storage.googleapis.com/tensorflow/tf-keras-datasets/mnist.npz\n",
            "11490434/11490434 [==============================] - 0s 0us/step\n",
            "학습셋 이미지 수 : 60000 개\n",
            "테스트셋 이미지 수 : 10000 개\n"
          ]
        }
      ],
      "source": [
        "from tensorflow.keras.datasets import mnist\n",
        "from tensorflow.keras.utils import to_categorical\n",
        "\n",
        "import matplotlib.pyplot as plt\n",
        "import sys\n",
        "\n",
        "# MNIST 데이터셋을 불러와 학습셋과 테스트셋으로 저장합니다.\n",
        "(X_train, y_train), (X_test, y_test) = mnist.load_data()\n",
        "\n",
        "# 학습셋과 테스트셋이 각각 몇 개의 이미지로 되어 있는지 확인합니다.\n",
        "print(\"학습셋 이미지 수 : %d 개\" % (X_train.shape[0]))\n",
        "print(\"테스트셋 이미지 수 : %d 개\" % (X_test.shape[0]))"
      ]
    },
    {
      "cell_type": "code",
      "source": [
        "X_test.shape"
      ],
      "metadata": {
        "colab": {
          "base_uri": "https://localhost:8080/"
        },
        "id": "sM8FbsyiYB42",
        "outputId": "91b92e22-2ec5-43f3-e7c9-acc284fa5d9c"
      },
      "execution_count": 2,
      "outputs": [
        {
          "output_type": "execute_result",
          "data": {
            "text/plain": [
              "(10000, 28, 28)"
            ]
          },
          "metadata": {},
          "execution_count": 2
        }
      ]
    },
    {
      "cell_type": "code",
      "execution_count": 3,
      "metadata": {
        "id": "8S-h0mBBHps2",
        "outputId": "25adc5e7-5d82-405c-b690-4954839d2bbe",
        "colab": {
          "base_uri": "https://localhost:8080/",
          "height": 430
        }
      },
      "outputs": [
        {
          "output_type": "display_data",
          "data": {
            "text/plain": [
              "<Figure size 640x480 with 1 Axes>"
            ],
            "image/png": "[encoded data removed]"
          },
          "metadata": {}
        }
      ],
      "source": [
        "# 첫 번째 이미지를 확인해 봅시다.\n",
        "plt.imshow(X_train[0], cmap='Greys')\n",
        "plt.show()"
      ]
    },
    {
      "cell_type": "code",
      "execution_count": 4,
      "metadata": {
        "id": "U2p8H9OSHps2",
        "outputId": "c4327677-f7da-4581-97ba-24301d2175b7",
        "colab": {
          "base_uri": "https://localhost:8080/"
        }
      },
      "outputs": [
        {
          "output_type": "stream",
          "name": "stdout",
          "text": [
            "0  0  0  0  0  0  0  0  0  0  0  0  0  0  0  0  0  0  0  0  0  0  0  0  0  0  0  0  \n",
            "0  0  0  0  0  0  0  0  0  0  0  0  0  0  0  0  0  0  0  0  0  0  0  0  0  0  0  0  \n",
            "0  0  0  0  0  0  0  0  0  0  0  0  0  0  0  0  0  0  0  0  0  0  0  0  0  0  0  0  \n",
            "0  0  0  0  0  0  0  0  0  0  0  0  0  0  0  0  0  0  0  0  0  0  0  0  0  0  0  0  \n",
            "0  0  0  0  0  0  0  0  0  0  0  0  0  0  0  0  0  0  0  0  0  0  0  0  0  0  0  0  \n",
            "0  0  0  0  0  0  0  0  0  0  0  0  3  18 18 18 12613617526 1662552471270  0  0  0  \n",
            "0  0  0  0  0  0  0  0  30 36 94 15417025325325325325322517225324219564 0  0  0  0  \n",
            "0  0  0  0  0  0  0  49 23825325325325325325325325325193 82 82 56 39 0  0  0  0  0  \n",
            "0  0  0  0  0  0  0  18 2192532532532532531981822472410  0  0  0  0  0  0  0  0  0  \n",
            "0  0  0  0  0  0  0  0  80 15610725325320511 0  43 1540  0  0  0  0  0  0  0  0  0  \n",
            "0  0  0  0  0  0  0  0  0  14 1  15425390 0  0  0  0  0  0  0  0  0  0  0  0  0  0  \n",
            "0  0  0  0  0  0  0  0  0  0  0  1392531902  0  0  0  0  0  0  0  0  0  0  0  0  0  \n",
            "0  0  0  0  0  0  0  0  0  0  0  11 19025370 0  0  0  0  0  0  0  0  0  0  0  0  0  \n",
            "0  0  0  0  0  0  0  0  0  0  0  0  35 2412251601081  0  0  0  0  0  0  0  0  0  0  \n",
            "0  0  0  0  0  0  0  0  0  0  0  0  0  81 24025325311925 0  0  0  0  0  0  0  0  0  \n",
            "0  0  0  0  0  0  0  0  0  0  0  0  0  0  45 18625325315027 0  0  0  0  0  0  0  0  \n",
            "0  0  0  0  0  0  0  0  0  0  0  0  0  0  0  16 93 2522531870  0  0  0  0  0  0  0  \n",
            "0  0  0  0  0  0  0  0  0  0  0  0  0  0  0  0  0  24925324964 0  0  0  0  0  0  0  \n",
            "0  0  0  0  0  0  0  0  0  0  0  0  0  0  46 1301832532532072  0  0  0  0  0  0  0  \n",
            "0  0  0  0  0  0  0  0  0  0  0  0  39 1482292532532532501820  0  0  0  0  0  0  0  \n",
            "0  0  0  0  0  0  0  0  0  0  24 11422125325325325320178 0  0  0  0  0  0  0  0  0  \n",
            "0  0  0  0  0  0  0  0  23 66 21325325325325319881 2  0  0  0  0  0  0  0  0  0  0  \n",
            "0  0  0  0  0  0  18 17121925325325325319580 9  0  0  0  0  0  0  0  0  0  0  0  0  \n",
            "0  0  0  0  55 17222625325325325324413311 0  0  0  0  0  0  0  0  0  0  0  0  0  0  \n",
            "0  0  0  0  13625325325321213513216 0  0  0  0  0  0  0  0  0  0  0  0  0  0  0  0  \n",
            "0  0  0  0  0  0  0  0  0  0  0  0  0  0  0  0  0  0  0  0  0  0  0  0  0  0  0  0  \n",
            "0  0  0  0  0  0  0  0  0  0  0  0  0  0  0  0  0  0  0  0  0  0  0  0  0  0  0  0  \n",
            "0  0  0  0  0  0  0  0  0  0  0  0  0  0  0  0  0  0  0  0  0  0  0  0  0  0  0  0  \n"
          ]
        }
      ],
      "source": [
        "# 이미지가 인식되는 원리를 알아봅시다.\n",
        "for x in X_train[0]:\n",
        "    for i in x:\n",
        "        sys.stdout.write(\"%-3s\" % i)\n",
        "    sys.stdout.write('\\n')"
      ]
    },
    {
      "cell_type": "code",
      "source": [
        "#4개의 이미지를 시각화 하기\n",
        "fig = plt.figure()\n",
        "ax1 = fig.add_subplot(1,4,1)\n",
        "ax2 = fig.add_subplot(1,4,2)\n",
        "ax3 = fig.add_subplot(1,4,3)\n",
        "ax4 = fig.add_subplot(1,4,4)\n",
        "\n",
        "ax1.imshow (X_train [0], cmap= 'Greys') #first\n",
        "ax2.imshow (X_train[1], cmap='Greys') #second\n",
        "ax3.imshow(X_train[2], cmap='Greys') #third\n",
        "ax4.imshow(X_train[3], cmap='Greys') #forth"
      ],
      "metadata": {
        "colab": {
          "base_uri": "https://localhost:8080/",
          "height": 190
        },
        "id": "4T4rl-VoUqFV",
        "outputId": "315177a5-0b85-482d-9407-bf49d4d87d5c"
      },
      "execution_count": 5,
      "outputs": [
        {
          "output_type": "execute_result",
          "data": {
            "text/plain": [
              "<matplotlib.image.AxesImage at 0x7c2664669d20>"
            ]
          },
          "metadata": {},
          "execution_count": 5
        },
        {
          "output_type": "display_data",
          "data": {
            "text/plain": [
              "<Figure size 640x480 with 4 Axes>"
            ],
            "image/png": "[encoded data removed]"
          },
          "metadata": {}
        }
      ]
    },
    {
      "cell_type": "code",
      "execution_count": 6,
      "metadata": {
        "id": "bfMgdLaxHps3",
        "outputId": "31c2ce75-265a-4d7c-f4fa-314598da0941",
        "colab": {
          "base_uri": "https://localhost:8080/"
        }
      },
      "outputs": [
        {
          "output_type": "stream",
          "name": "stdout",
          "text": [
            "class : 5 \n",
            "[0. 0. 0. 0. 0. 1. 0. 0. 0. 0.]\n"
          ]
        }
      ],
      "source": [
        "# 이미지 데이터를 1차원 배열로 평탄화하는 차원 변환 과정을 실습해 봅니다.\n",
        "X_train = X_train.reshape(X_train.shape[0], 784)\n",
        "X_train = X_train.astype('float64')\n",
        "X_train = X_train / 255\n",
        "\n",
        "#입력값 전처리 : 0~1사이의 값으로 입력데이터를 변환\n",
        "X_test = X_test.reshape(X_test.shape[0], 784).astype('float64') / 255\n",
        "\n",
        "# 클래스 값을 확인해 봅니다.\n",
        "print(\"class : %d \" % (y_train[0]))\n",
        "\n",
        "# 바이너리화 과정을 실습해 봅니다.\n",
        "y_train = to_categorical(y_train, 10)\n",
        "y_test = to_categorical(y_test, 10)\n",
        "\n",
        "print(y_train[0])"
      ]
    },
    {
      "cell_type": "markdown",
      "metadata": {
        "id": "czn3_m_KHps4"
      },
      "source": [
        "## 2. 딥러닝 기본 프레임 만들기"
      ]
    },
    {
      "cell_type": "code",
      "execution_count": 7,
      "metadata": {
        "id": "7L9ig9toHps5",
        "outputId": "cde31fd4-d689-47f3-b031-9fee1fea5aea",
        "colab": {
          "base_uri": "https://localhost:8080/"
        }
      },
      "outputs": [
        {
          "output_type": "stream",
          "name": "stdout",
          "text": [
            "Model: \"sequential\"\n",
            "_________________________________________________________________\n",
            " Layer (type)                Output Shape              Param #   \n",
            "=================================================================\n",
            " dense (Dense)               (None, 512)               401920    \n",
            "                                                                 \n",
            " dense_1 (Dense)             (None, 10)                5130      \n",
            "                                                                 \n",
            "=================================================================\n",
            "Total params: 407050 (1.55 MB)\n",
            "Trainable params: 407050 (1.55 MB)\n",
            "Non-trainable params: 0 (0.00 Byte)\n",
            "_________________________________________________________________\n"
          ]
        }
      ],
      "source": [
        "from tensorflow.keras.models import Sequential\n",
        "from tensorflow.keras.layers import Dense\n",
        "from tensorflow.keras.callbacks import ModelCheckpoint,EarlyStopping\n",
        "from tensorflow.keras.datasets import mnist\n",
        "from tensorflow.keras.utils import to_categorical\n",
        "\n",
        "import matplotlib.pyplot as plt\n",
        "import numpy as np\n",
        "import os\n",
        "\n",
        "# MNIST 데이터를 불러옵니다.\n",
        "(X_train, y_train), (X_test, y_test) = mnist.load_data()\n",
        "\n",
        "# 차원 변환 후, 테스트셋과 학습셋으로 나누어 줍니다.\n",
        "X_train = X_train.reshape(X_train.shape[0], 784).astype('float32') / 255\n",
        "X_test = X_test.reshape(X_test.shape[0], 784).astype('float32') / 255\n",
        "\n",
        "y_train = to_categorical(y_train, 10)\n",
        "y_test = to_categorical(y_test, 10)\n",
        "\n",
        "# 모델 구조를 설정합니다.\n",
        "model = Sequential()\n",
        "model.add(Dense(512, input_dim=784, activation='relu'))\n",
        "model.add(Dense(10, activation='softmax'))\n",
        "model.summary()"
      ]
    },
    {
      "cell_type": "code",
      "execution_count": 8,
      "metadata": {
        "id": "dem7CMEoHps5",
        "outputId": "56c36879-f731-4a24-df64-d0eb791a2f7f",
        "colab": {
          "base_uri": "https://localhost:8080/"
        }
      },
      "outputs": [
        {
          "output_type": "stream",
          "name": "stdout",
          "text": [
            "\n",
            "Epoch 1: val_loss improved from inf to 0.19213, saving model to ./MNIST_MLP.hdf5\n"
          ]
        },
        {
          "output_type": "stream",
          "name": "stderr",
          "text": [
            "/usr/local/lib/python3.10/dist-packages/keras/src/engine/training.py:3079: UserWarning: You are saving your model as an HDF5 file via `model.save()`. This file format is considered legacy. We recommend using instead the native Keras format, e.g. `model.save('my_model.keras')`.\n",
            "  saving_api.save_model(\n"
          ]
        },
        {
          "output_type": "stream",
          "name": "stdout",
          "text": [
            "\n",
            "Epoch 2: val_loss improved from 0.19213 to 0.13667, saving model to ./MNIST_MLP.hdf5\n",
            "\n",
            "Epoch 3: val_loss improved from 0.13667 to 0.11301, saving model to ./MNIST_MLP.hdf5\n",
            "\n",
            "Epoch 4: val_loss improved from 0.11301 to 0.09994, saving model to ./MNIST_MLP.hdf5\n",
            "\n",
            "Epoch 5: val_loss improved from 0.09994 to 0.09004, saving model to ./MNIST_MLP.hdf5\n",
            "\n",
            "Epoch 6: val_loss improved from 0.09004 to 0.08988, saving model to ./MNIST_MLP.hdf5\n",
            "\n",
            "Epoch 7: val_loss improved from 0.08988 to 0.08360, saving model to ./MNIST_MLP.hdf5\n",
            "\n",
            "Epoch 8: val_loss improved from 0.08360 to 0.08348, saving model to ./MNIST_MLP.hdf5\n",
            "\n",
            "Epoch 9: val_loss improved from 0.08348 to 0.08241, saving model to ./MNIST_MLP.hdf5\n",
            "\n",
            "Epoch 10: val_loss improved from 0.08241 to 0.08134, saving model to ./MNIST_MLP.hdf5\n",
            "\n",
            "Epoch 11: val_loss did not improve from 0.08134\n",
            "\n",
            "Epoch 12: val_loss did not improve from 0.08134\n",
            "\n",
            "Epoch 13: val_loss improved from 0.08134 to 0.08033, saving model to ./MNIST_MLP.hdf5\n",
            "\n",
            "Epoch 14: val_loss did not improve from 0.08033\n",
            "\n",
            "Epoch 15: val_loss did not improve from 0.08033\n",
            "\n",
            "Epoch 16: val_loss did not improve from 0.08033\n",
            "\n",
            "Epoch 17: val_loss did not improve from 0.08033\n",
            "\n",
            "Epoch 18: val_loss did not improve from 0.08033\n",
            "\n",
            "Epoch 19: val_loss did not improve from 0.08033\n",
            "\n",
            "Epoch 20: val_loss did not improve from 0.08033\n",
            "\n",
            "Epoch 21: val_loss did not improve from 0.08033\n",
            "\n",
            "Epoch 22: val_loss did not improve from 0.08033\n",
            "\n",
            "Epoch 23: val_loss did not improve from 0.08033\n",
            "313/313 [==============================] - 1s 2ms/step - loss: 0.0699 - accuracy: 0.9821\n",
            "\n",
            " Test Accuracy: 0.9821\n"
          ]
        }
      ],
      "source": [
        "# 모델 실행 환경을 설정합니다.\n",
        "model.compile(loss='categorical_crossentropy', optimizer='adam', metrics=['accuracy'])\n",
        "\n",
        "# 모델 최적화를 위한 설정 구간입니다.\n",
        "modelpath=\"./MNIST_MLP.hdf5\"\n",
        "checkpointer = ModelCheckpoint(filepath=modelpath, monitor='val_loss', verbose=1, save_best_only=True)\n",
        "early_stopping_callback = EarlyStopping(monitor='val_loss', patience=10)\n",
        "\n",
        "# 모델을 실행합니다.\n",
        "history = model.fit(X_train, y_train, validation_split=0.25, epochs=30, batch_size=200, verbose=0, callbacks=[early_stopping_callback,checkpointer])\n",
        "\n",
        "# 테스트 정확도를 출력합니다.\n",
        "print(\"\\n Test Accuracy: %.4f\" % (model.evaluate(X_test, y_test)[1]))"
      ]
    },
    {
      "cell_type": "code",
      "execution_count": 9,
      "metadata": {
        "id": "QFTv0dfNHps6",
        "outputId": "831b4096-2c7e-453f-c978-94e91b44bccf",
        "colab": {
          "base_uri": "https://localhost:8080/",
          "height": 449
        }
      },
      "outputs": [
        {
          "output_type": "display_data",
          "data": {
            "text/plain": [
              "<Figure size 640x480 with 1 Axes>"
            ],
            "image/png": "[encoded data removed]"
          },
          "metadata": {}
        }
      ],
      "source": [
        "# 검증셋과 학습셋의 오차를 저장합니다.\n",
        "y_vloss = history.history['val_loss']\n",
        "y_loss = history.history['loss']\n",
        "\n",
        "# 그래프로 표현해 봅니다.\n",
        "x_len = np.arange(len(y_loss))\n",
        "plt.plot(x_len, y_vloss, marker='.', c=\"red\", label='Testset_loss')\n",
        "plt.plot(x_len, y_loss, marker='.', c=\"blue\", label='Trainset_loss')\n",
        "\n",
        "# 그래프에 그리드를 주고 레이블을 표시해 보겠습니다.\n",
        "plt.legend(loc='upper right')\n",
        "plt.grid()\n",
        "plt.xlabel('epoch')\n",
        "plt.ylabel('loss')\n",
        "plt.show()"
      ]
    },
    {
      "cell_type": "markdown",
      "source": [
        "##임의의 이미지로 테스트하기"
      ],
      "metadata": {
        "id": "x3xpxXM7Xg8B"
      }
    },
    {
      "cell_type": "code",
      "source": [
        "# 테스트 이미지 중에서 무작위로 하나를 선택합니다.\n",
        "index = np.random.randint(0, len(X_test))\n",
        "random_image = X_test[index].reshape(28,28)\n",
        "\n",
        "# 선택한 이미지를 화면에 그립니다.\n",
        "plt.imshow(random_image, cmap='gray')\n",
        "plt.title(f\"Label: {y_test[index]}\")\n",
        "plt.axis('off')\n",
        "plt.show()"
      ],
      "metadata": {
        "colab": {
          "base_uri": "https://localhost:8080/",
          "height": 428
        },
        "id": "3n58SwPEWAP1",
        "outputId": "6d795301-42c7-4c41-8e97-ed08f8e447f4"
      },
      "execution_count": 10,
      "outputs": [
        {
          "output_type": "display_data",
          "data": {
            "text/plain": [
              "<Figure size 640x480 with 1 Axes>"
            ],
            "image/png": "[encoded data removed]"
          },
          "metadata": {}
        }
      ]
    },
    {
      "cell_type": "code",
      "source": [
        "#이미지의 테스트\n",
        "random_image = random_image.reshape(1, 784)\n",
        "prediction = model.predict(random_image)\n",
        "predicted_label = np.argmax(prediction)\n",
        "\n",
        "#예측한 결과 값\n",
        "\n",
        "print(\"\\n 예측한 결과:\",predicted_label)"
      ],
      "metadata": {
        "colab": {
          "base_uri": "https://localhost:8080/"
        },
        "id": "q6bm8Se5Y12O",
        "outputId": "26ad9cba-74b3-489b-e196-7eeed724120d"
      },
      "execution_count": 11,
      "outputs": [
        {
          "output_type": "stream",
          "name": "stdout",
          "text": [
            "1/1 [==============================] - 0s 80ms/step\n",
            "\n",
            " 예측한 결과: 0\n"
          ]
        }
      ]
    },
    {
      "cell_type": "code",
      "source": [
        "#선택한 이미지와 예측 결과 화면으로 보기\n",
        "\n",
        "plt.imshow(random_image.reshape(28, 28), cmap='gray')\n",
        "plt.title(f\"Actual Label: {y_test[index]}, Predicted Label: {predicted_label}\")\n",
        "plt.axis('off')\n",
        "plt.show()"
      ],
      "metadata": {
        "colab": {
          "base_uri": "https://localhost:8080/",
          "height": 428
        },
        "id": "bPTWzv8daXXs",
        "outputId": "7ef9e9b6-478f-4a1b-d876-f2ba3a0b7819"
      },
      "execution_count": 12,
      "outputs": [
        {
          "output_type": "display_data",
          "data": {
            "text/plain": [
              "<Figure size 640x480 with 1 Axes>"
            ],
            "image/png": "[encoded data removed]"
          },
          "metadata": {}
        }
      ]
    },
    {
      "cell_type": "markdown",
      "source": [
        "##내가 쓴 글씨로 테스트하기\n",
        "\n",
        "1. 먼저 숫자를 그림판에서 쓰고 'mynumber.png'로 저장합니다.\n",
        "2. 코랩에 업로드 하세요\n",
        "\n",
        "![image.png](data:image/png;base64,iVBORw0KGgoAAAANSUhEUgAAAUkAAAD1CAYAAADd9QcSAAAAAXNSR0IArs4c6QAAAARnQU1BAACxjwv8YQUAAAAJcEhZcwAADsMAAA7DAcdvqGQAAB/wSURBVHhe7d0PcBTnfTfwb9/S9xrnrTwERNyp77VHKCGKzBQL99VIMO55bCPKFKkxysUpEW1PsjFGtnHoi6lsR1GbnDEtNW3AxLZQY8tM4rOcBNG4yK6HswtSaGzBmCgEIjTxe2TioBDGmoE3lxfP2+e3t4+0Ot09t3c6Sffn+7F37vZ2dbd77H3v+bO3z2/9fwVERJTQf7NviYgoAYYkEZEBQ5KIyIAhSURkwJAkIjJgSBIRGTAkiYgMGJJERAY8mZyIpu2Xv/wljh07Zs+lb8GCBfjUpz6FhQsX2o/kDoYkEU3btm3brKCcDgnInTt32nOpyevJ+vLaqcJV1j148CAaGhrSDmKGJBFNiwSQBNWKFSusEDKR9Uwk9NyGmA5mWd8UlLJOV1cXfvzjH1ul1VTbEI9tkkSUFRJSpinbdDDqEqXcxnMGpKybbkAKhiQR5SUdesmCMj4g06nKOxVeSL4dRFkghFF7dqpBBMvKUDY+BRB6315kG9yhHt8xaM8RUbZIdTzRJNXgTCQLymwFpMibkLSCa1K4xU9BFX8pvB9CoKwRCI1gZMSe+lfjcG0Zgm/b6xDRjJCwShSQMi1ZssReK32JgjJbASlSdtxIj9CZM2cQCASsDZD7bkiX/sqVK+25WSQlyafLcbzLj1L7IU2CthE9GNleZT8SM9oTQPWrq8f/Jtl6RDSV5IKElA68TEjOyCSBJsGWCR2QciuyEZAiZUlSzn2SRNYBqXcm1eQ2TNMjVWVn9XgUoUB6pUBfude+N6H0xnIgPIyIPU9E+Sk+YHVgTkfKkJQSpHxLSJuBfEtIMdbN1NzcbD9DbgkPT43C0Z8OS3pianwSUT6QMJTc0VVsmeJLlplKGZISjpk2quaaqr/cAd+zjZNLnu+H8Mi2MFrun1o9J6LcFx+QEoymXu90ueq4mW4Sz7rwdlTbHTqTAvE6P7pGegC/o8On9jBW94+g7RZ7HSLKG4kCUsj9bAVlyo4beXLZAH3b399vLzGT3qpMG3GTkzbJWO90LNSkTfIRINgF/3XWCsaOGyLKPgmfuei4SRaQTs6AdAZnOlKWJDNNX+ndzj4vyn323WlIfTqRmnieJFFaJCsynTIhoWoKSOEMRnkdCdV0ufrttjx5uuk7M6TkWI3h+3VJUkqWe1Den92SpHVK0HArTwEickGHjwTWdKUTYvp1JQRT0evW19en3ceSHxe4kJPAa7cjbM8m5duB4/cPozpFSFrnQT5rzyRzL8+TJHJLQkhC8uLFi/Yj6ct+81x2pAxJ2XmZ8qaH20VJUkJyT/lxdDWy1ZKIzFKGpJwnKaTOLyeWSzuAG3LZpDk5V5IhSURZlDIkJRSlJCmBJ8Vpt7+kkd7tOSl9ugzJlNVttKBnpA2scBMVt/xok0wHTwEioiwqvJAkIsoiV7+4ISIqVgxJIiIDhiQRkQFDkojIgCFJRGTAkCQiMmBIEhEZMCSJiAwYkkREBgxJIiIDhiQRkQFDkojIgCFJRGTAkCQiMmBIEhEZMCSJiAwYkkREBgxJIiIDhiQRkUFRjHEjozz29vZatyYyOHquDpBORHOjKEqSXV1dKQNSyPC5bscVp/wnx4SMJy9DJhMlUxQlyUAgYN1KWCaj1xFzVaKUD61sY7IPba6WdPN1u7dt22Zts4wPL//+CxcutJfEHD161Lq9ePGiNY68LI9fhwofQ9LmDEkxFx9sKdXkY5NAvm63SBSUqWoUsp6sz8AsDgxJm17HabY/2Im2IRPy4dUf5NmQr9utJQrK/fv349ixY/YaieltZVgWNvZuG+RrG6V84E1fCHNJAkWCJVG4zNV26+1wNhs0NzdbISilZJkkSOPDW9aVIJX1qXCxJGnT6yQyWx9cN9vpRraexy3TexdPAkeHkoSLhE+82dpukaipwFmijJfoi3PFihVWjSPR+pT/WJK0yQczfqLskiBxBoyEigTMXJFtSdSW6ixRCh2MMp8oDKU0mapqTvmLIUmzQoJFAkZ6iZ3BNJttvk4SePElQqFD0BmU8pjc6iCsr6+3bp10iFLhKfqQlNM8En1Y8lkuloR1lVyqss5SlwRSOtX1bEn2/kggShVcOINS2ih1CMa3TWqFdhxRTFGHpASkfAjk4M7nA1y2XXpjZdLn9ukOh1wgoaKDRUJRSpN6O4Vz+VzTQair1PFBaSLnU1LhySgkC6FaoQNSy8eglA+wlMJku8+cOWNNsk/6lJZcEV9SlJ+IyqRJICWqws4k2SYdhE66KcDZVuoMSpHsvZ2LEjHNPNchKQeGlFTkQJAPoUxSUsnHwIwPSCEfmHwLStkH2W79byG38u8j/ya58u+i2/g0ee/19untlskZmrNBtilRp1F/f791K9sty/W2O4NSSr3xfxu/n1Q4XIWkHCByQEtbkhwcckDoBng5wPW3b77Q1SLZJ01/IHIlXFLRYSP7oKuq8u8TH/5zLT5MdGlXJh3szmk26SB0kmNZf1FK9Vq2UX8ZOYNSlum/lfdfnosKk6uQ1N/ychDLwSEHhD6ARK59MFOR7Zdtd7aDyWNSCkvV7pQrJGxk+52lF/nQOgMnF6p/zpK51ERMYTLbpUnhDDtNtll/+esvTd0cEB+Usj+zHe40u1KGpJRY5MCQD5wzVIR8QHX1TtbJJ4mqRvH7l29kn2Qf9JRoH2ebhLk+PmR7km2TLJ+rY0gHpXPbZFt0SVeOcWdBQJbpoDSFPhWGlL+40e10csAkOsDlQJEDSQ6WXD1gdIkqUYk302UzQZdeUpH3W9532S65Hx/u+gMu279y5Ur70ZmTarv1cZMsIIX+e9mXuSyZSWlXB3sieh9kuWyrvMem/aL85zokTUEhB4p8E+dqVVW2T6Qbdpn+XaYkKKTKmSoo9YdTwklIqDg/vPpxfTvT3G53KrIPsl/xoT8X5H2USQJzwYIF1jY5w1B/UTEoC1/KkJQDXz5siUosQvcUy4EyG6WWTOgDOhNy8M9W2KRLB6LcOkMyl8KmkDmDUu5TYfrtLyv2/aROnDhhTTfffDOuueYa+9HYB1ICUh7L5Q6Pj3zkI4hEIrhy5Yr9iDty8N999905W0qQ913+Tbxer9VjL7dVVVV44IEHWLKZBXfeead1RkEuHyM0fa6uAiRhKN+UciDoKzQLqYYLqWpLeyQPFCIqNK4vlaZLjc52J90eo6ujrOIRUaFxHZJOut1Lc5Y0GZREVEgyCslEGJREVIgyusBFIhKOuqdVquVyS0SU77JWktQkHGViSZKICkHWQ5KIqJBkrbpNRFSIGJJERAYMSSIig7xok/zJT35i3yMiytwnPvEJ+5577LghIjJgdZuIyIAhSURkwJAkIjJgSBIRGTAkiYgMGJJERAYMSSIiA4YkEZEBQ5KIyIAhSURkwJAkIjJgSBIRGRTtBS5kaNwzZ85MGYtHxuqRMcSJiETRhqSM6JiMhCSDkohEUYbk0aNHrREdMyElzSVLlqC5udl+hIgKGdskHSQAU5Hq+bFjx6zqOhEVPoakTYbA3bZtm+tqNscVJyoODElFB6SUJFesWMH2SCIaV/QhqQNSY1ASkVNRh6QEovRyJ6o6S+eMhCURFbeiDkkJRylF7ty5034kRuZlkg6azEQRORrG4Kg9e3UUg28MIHLZnieivME2yRkRQV/HJjz3fTslrwwi9NAm9J6NzRJR/mBIzohytLx+GvvWlsZmS+qw44cnsfnm2CwR5Q+eTK7Enx/p5vQeactcuXKlPUdEhaooS5LSo+0koeic3Ih/DiIqTFkvSUrIuPnlylyT0qRc4CIT0uvNkCQqDilDUn5+19vba913nk+YjO4prq2tZXWUiPJeyuq2hJ6UDt0EpNDrZXoBCSKiXGIMSd0+JydWx5Nlzos8yH29/oIFC6xbPU9ElK/S7rjRpUopYerSoj75+uDBg9Z8PrRJEhG5kXZISgBKIErnhQSm3JeSo9zyGotEVGhchWSikqGzCi7h6FxHV7eJiPJd0pCUUqJUpyX8El3owVSlltNjZLlUv9kuSUT5zBiSphKhbo9MFoLy+MWLF+05IqL8lDQkpTSo2x3jhyrQ83LNRb18//7944Gpr55TX19vLHESEeU6Y5ukDjhdIpQglJ5tKUXKrW6X1B058YHIgMwFgwiWlSH4tj2bLW8HURYIQV8NjqhQueq40aTkKGGoTxiX0qZc6EGmfPuZnpR+pc1Ugt856dOYKIveDyFQFkDofXueKI+kFZJSMpSgdJYQ5aeH+fjzQ31epzQNOCd5jEFJRFrK6rZM6V4IQrdJZru6feHCBfve9MjFLUwkJHUJOX6SUrSUOFM634d2fzUqVFW3orYR7Yci9gLl6igGvrYJq5aXoaxsGVbd14khfdVyq9QVROjVdjTayxsf70NkbAid9+jnC6DzVNT+A6lOq/lDnQjUVqj1K1D9UDeGDVdBj7wRnFj3nk4MjtkLTC5PvP6yde0IvRv3R6MD2HvfKixTy8uWr8KmZ4cgWzjaE0BZ7XaE1X/ba8sQ6LEr6Kb3gCiHpCxJOk8ad0PWk7ZKCZRse+WVV/CLX/zCnpsb8l7Il0B8Z9Zkw+j8qy2I3HUAJ8+O4GS3H5G/+QL2nrKXdq1H4N3b8HT/CEbOvoWOG0No/IcBK1RiunF41I99avnpt/4W139nC9au3gPPg6/j9NnTOPQgsGuzChV7bagACg2Wo+P10xh5pwetV4JYO+n5JkQHgvjCDuCe76l1zx5HV00/GrekalscQ19bI0LXP4nXTo/g+Nf96nmcpW21v38ewDu+p3Fc7e/IkQ54X25E8GgUpY1dGOnfAZ/6b4fan67G2IWIU78HRLkhZUhK9VqCz23oSUlLTi6fqSr47t275zwohe7JT2wMF86Vo7aqHJ55gGdxAzq6d6BmfiwCvHf34PgeP8o9amZeCWru8CH6cr8j9Jpwz/pKlKrlnuvr8bm7oxhbswFNS0vU+h6U+1aj5vw7GBpv46tBS7MP3o+qu/Mr0fRgKxY9fxgDUxJnFAef64Tv0a1qW9Sseu3K9ep5w2pdU0q+fxgvHfKh9UH1GrJNpeo1Ak32QuWqF/7QcexrjO0vSmqw+vYoQj+Y2KN4qd8Dotzguk0y21XnTElA5kpQJleJhsdKsOeuagQe70ToaATXLq1B1fWSCCpkroli6Fld1VSTvxO4MjnRrLCxWfdVOCanljnWR0UV6hDBhUv2/LgIhsOqnBqQqrb92hUBVW4Ffv1hbI2Ezg8jfP1NWCzBqv2OfSvUtpVEVXW81a5uq6nxWVVqNRQL3bwHRLkgrY6bXJH7QelBZUBVtf/jAFr/lwdDz69H9Z9sR59V8oti8B8aY1XNt1RVc0RNoRbrr7Lmw6ih2urF1n+1X3d86oL/OntxJqKDCPod1W31nD332ssSmoX3gChL8jIkc96lYQwcHcbY/HJUrW1Cx3Ov48klIbx0VOq0Yxg+G0HTRlXVlOqx+H/2bbacj2BQheEiZ8nPUgrvzREcOeHoRBJX7dtkri+H7/wPcc5ZMnVus9rf4fNNaL3brm4rUeNzzsJ7QJQleRmSH//4x7FlyxbrNjedw0v33Y9db9gNfZcG8cN3PVj0e1Jl9uDahR70HexD5LIq8b0XRvCrUuGdjjA6nwkjIsXH6DBCO4IYu7cBNVNq6F40NNdj6Il2dP8o1js9dqobgc/txZCppnvdanxubRh7/jn2GtHRQex9yrHN11yLRdf04WBfBFG1T9J7HvyWvUws9KJcvSeRn6v9tV5nJt4DopmRdyGZ+wGpzK/Dk99W1cdn/tQ6Zabsjj24sLEHHXUlamEJ6tp70PT+l7BqaQWqv3gE5RtbUKmqoGOmoDKqQd2SIbTfVoGyirXoLu3A/geqpKVyipI1u/HaE14cbKm22gJv/fIwVj+hXt/U5CnbHOyB//wjWFVRhur7DqJ0dYO9TCmpQ8c3mxDpWIWKpdV4OFyOe5orgctjsWr/vCo0PHY9utdVYNnTg/IHM/AeEM2MvBpSdt++fbjrrrumHZDxQ8pmQnr7c+MkejlPcg/K+6fZrijnZ1rnM8aTU3em+dxEeSyvSpLr1q3L7RJkPrvOj65JnTl6YkBSccurkFy0aJF9b3qy8TvzfPutOhFlJq+q29nEcbeJyI2iDUkiIjd4niQRkQFDkojIgCFJRGTAkCQiMmBIEhEZMCSJiAwYkkREBjxPUkk25o1caJgnjRMVt6IOSRmnJtXYPTJ8hUw0W9K/YIcMNlY93IqR7VWxB65G0NfxMLYfGMQH9/ZMPE6UgaKubpt+liilSAnHzIaYHUUoUIaym9oTjDMjIuheJ8MWBFUkxFijCt4UQG/82NRxY1Zb6wUcA3ddHkbo8UZU3yTPV4Fq/xZ0n7BHMnw7GBsaIckUfDu2WmIZ7oNz2yaR8Jv8+taoil8bwGiqi/6maey1Xdj0/SrsfXsEI38dC8jBHXGvrabxkRuJDIo6JM2DeU2UIjMei/tKN154LcF4re+FcfCEfd/pShiPPN6bJGQSGUXvlrXonNeKnn4Z/fAk/vXx5TjS1IhdJ1Sy3dI2cTUfx4iF+rG2W+ynMbH3YUp1I9k+pNASmnj90997CrXvBnBrR9gw3ET6olfUe377atR8TM1YV0qPYuwyULfzTZx85+T4tHttbORGIhN23KQwnaCsW1OHvm8cVGWuyYZ6OzGqltXY8+OWVqFy4BF89dUEwZrI6AC++0ZVbKTEEhkMzIPSpU3YujGKvd/T5bvpGd+HuJRMug9p8FxXiabtbSg/8F2E43Y5OtyL9nXLVIkvNjb4pDG5ZUzz8WV7ccS6JHuMlBirt4WBZxuxWJUWY6XlMVz4GeC90YuS+SUTk/FCw0QxDEkXMg1Kb+MGNJ0JIXzOfkBEBxB6phQtd9829crhC/zYscePvm1fQt+UkQ4TmL8Yy68fwOHXhjDmqLJWPvAmRh6bTnxN0Pvw5jlHSpr2ISvCCD7/AfydJzFy6hBaPwzi/hfswWavDmGvjGleL2Oan8Zbj1Vi6NWB2DKlavsIju/0Aff24Nx4aVlGifRi8JnG2GiOyxvR3jOc1dIrFS6GZBJSFdehqINR2ilTVdGdLlyphH/jGDpfnRhNeuy1F9Dt24CGcvuBONf62rDvM33Y8o8uqqDzKtHSuQOLvq0+/NWN2PKVbhXILkuhLul92P9v7vfBtWhElVJVKdFXiyoZ2WJcJdq2N6FSBjL7aDlWr/EhMngu1gxx8iD2RFuxdX0lSlRV2nODT5WkU3whRD24ab0Pt/3FU3hLVbPf3FmJgW1rETzKmKTUGJIGzpCUKZ2AFGNXoqisb0HpMyG782MUh7/Th7o6HyZlwiQe+L64G3Xf2YRgOPWH2PNJVfr8rvrgf2MDlkeP4JGGZVi2Ia56Og3j+/Dsy2nsQ3KdfkfnScVa7BptQs9uPya3DpbCo0dR1D78tXUz+lNVAry5HF7HOOO/axyTXPFUov7vOrB5Zay67b29A089vAjdfQMsTVJKDMmZdkMDNvjsDpz3DiP0n03YsErFy88jmKgkxplfh7/dWYfQl3ZhwE3BUIWEd2k9mv6uC8dPvomt8xzV02xQ+9DkezG9fUjC2XEzMnISr329Ja4UOTsW/f5i4GcXkN1yNxUihuSMK0FdY5PV+RGSzo6N/thQrx9GjaWYkjWP4skl3di+43DS3u5ouB1lt+7FkPMUmnle+FbVTFRPs0Ltw7r092EmlN5YDs+JYUQc+/zrq+atGAsHsbatb9L78cFlNfcHizIqDVNxYUjOAk/NajSdacf2p0rRUl9pP5pKqaoiPonF/xlGsjKhp6YBmz170P61AURkLFYVFqOnQti7fxC+NTVxVdjp8dTUZbAP7kTfG0D4hMtIX9aAVrXPuw7EOquiZ3vV/prLsyV/uByLe3fhuaOxcmP0XAjBvx9GU13NDHU8USFhSM4GTw38G73Amg1ouMF+zI3r6tHxZV/yD7KnCltf6cGG6AtoljG3P1mBO794EJ6Nh7DvM1k+B9DtPoS3o1q3OdpT4OUL9sLEIn3t2KSCzlVMzqvE5n/ZDW/veixT+3vr30dQpb4QjOxx0KNP3Wptz7KmELxPvIaOlYxISq2of5a4f/9+HDt2zJ5zRwYBa25utufyHMfaJkqJIVnMIUlEKbG6TURkwJAkIjJwFZL61ydyWTGposolxgrBkiVL7HvuSXWbiIpHyjZJ/WuTeIXSNieB7/aXNHIBXvlpIhEVD2NIyhW7u7q67Lmp2IlBRIXOGJLbtm0bL2VJCUpCUXqDnY+lqrLK33AIBCLKV8aQDAQC9j1Y7ZH6KjgSnm7JugxJIspXSTtu4tvpnKVHIqJikVZ1W6rWMi6MM0Cdvb0XL14c7/nW68vFahmsRJSvptVxo6/YrTl7wtmpQ0SFwHie5MqVKyeFoJO0MyZblm/kyyDRVCjngxJR5owlSU2q11JClOq0VKFlStQZI8HS399v3ddV7VzGcbenmjKGNVGRcxWShSrZifJC2lGlyUCWF1NQMiSJJivq327H9+DH0+FoClMiKmy8wEUKmQXlIIJlAXQe6kSgtgLjY0ePRdD3uGNY01ftEbnfDqLipnZ7oC0RRfjxMvzx1+Sa5LHn6j6aeBxqKfmV7XCOsS3r6/GmY+NQB7p60XlPNSrU4xW1artOjSHyajsal8tFcZeh8fG+ScMh4OrwlO10Vjeip7qxxdqWMixb147e9+wFer979lrPHeiZfBlda1u/Epr03MHwxDrWth4YQK+93NrWd2MDgFkuD43vh7xu6Pl2dT+oXpVo5jAkXcgsKMMIDZaj4/XTGHnnADb8Koj1tz2Mft9TOH72NI7/UxUGWnehT0YUWLYaTQjhyKnYX8rY0v3f8cLv08MkGMahdiH8zXdQ/thbOH32JA58fgzBv7wVD//gNjzVP4LTx/eh6vubsEsG+dK6OuO282G8+FM7Js+HsOnzR1C78zhG1PJD9wK7mlRQjQd8GLv6gLZvn8TutQmujv6tw7jg32c9twztGg5sQvd4yKq/fuI5fODvssbUPrQZeKJ1vz18xRj62hrRfc2jOHRKbdfX/YgeDXG0Q5pxDMkkdGeVMxilnTJVFX1CDVqaffDK0Kjzq1D/2RqMfcqPltu98MzzoHTlavjQi3fOquXzqtCwcRG6/90uE50eQN/H/PBVxGaN41C7UNPcAt8NHvU6Jaj6jB81lyrhl21TD3lKa7D6dqD33WF7bSXQgY7x7dyKtvWD4+NuD77YjtH/3Qb/Ynk+D7x1TWiZ340jP7IWK7Ktm1F1QwlKEo2OcPc9aFpaaj239/ataF0ziFB44rUr1XM3LS2xnrv8dvUe/ewdnJMdff8wXjpUg81/U4/yj3rUdleiaWNT7I+IZhBD0sAZkjK5D0ghIWLfVayxodX/v2vPx6v0+bHo1QFr5MMhVULCZ32oHP/75ONQu+GZ53hVGdA/btumkG0d58HiyhpEPviNuj+K4bNRDHWssqrasWkV2k9FEf0wtnbCbXWa9NwluHllDYZ+PlGKLf3otfa9Cb+W5z4/rMqo5SjnkBI0yxiSuaLCB7+qcofPDmPwMBxV7dxTv0dV+8fHzo5NbbfYC9MUjTqq+UQ5iCGZK+ZVwvd5IPTMHhy55Kxqu5Bi3Om0TXq+KM4NDcB77X9X90vgVdX2vh8MTW4LdHb6pCWqCohDqPx9F6Nf33ATfIjg/CV7nmiWMCRzSOUf+4FDvRhYU+OoaptZg/V/6yX0nlexFR3F0PN70G0vy1hXO9rfiCAq43gf3YXggSo0/4mUbD2o+WwrvM+3I/hGrEU0ej6M9j/bgr5EDaRXRzH4xgAidk+85UW1fadipccx67l9aKort+aNSn343Now9vxzWD2fqt6PDqH7mWnvKVFKDMlc8mlV5S71oOmONE7kvmUreh4cxZdurUBZ7XrsiS7HtE97D7SgNvwwqj9ZgeqHBuHr2oemG38rtuzTm9Hzih8XdtwZOwXI/wIWPfoo6hIN831lEKGHNqH3jOMEojW18IQC1ik+yx4aQsOBJ10OXVuCumAP/OcfwaqlarvuC8FTUzy/hKK5U9S/uMm5IWVlHOw7htF6sg1VLkuS+WTav+aRar3jfYmG21HxQiWOd/mRKKOJsoElyVygqrVjl0Yx8I1OnNvYUJABOX2j6N2y1m4GULOXBrDrq93wrbmNAUkziiGZCy71Ycvyamz6kR9PB3K3V3tulaK+vQ2LXm5G9SfLUHZHOyKf7cHuP2NE0sxidTuXqttElHOKuiQpl3NLl/NK7ERU+Iq6JCk47jYRmRR9SBIRmbDjhojIgCFJRGTAkCQiMmBIEhEZWB03v/jixAUAP/6PzqsREBEVN5YkiYgMGJJERAYMSSIiA4YkEZEBQ5KIyIAhSURkwJAkIjJgSBIRGTAkiYgMGJJERAYMSSIiA4YkEZFBygtcfPir9/Cbc/9hz034yB99wb5HRFS4Uoakc5mThGTJ55+x54iICpMxJP/vD17E2Dc32nNT/fbHblDT/7TnJvudxbfif9S12XNERPnJVZtkLAynTuLDX/2fhNPlvq/iN8NvWesQEeUrVyXJhY/9aDwU3ZB2zF9+5dNWdZxtl0SUz9i7TURkwJAkIjJgSBIRGTAkiYgMGJJERAYMSSIiA1chKT9LlHMeXU8JfsZIRJSPjOdJ6vMdM5Xu+ZVERLkm4wtcpMKTyImoEKQMSSKiYsaOGyIiA4YkEZEBQ5KIyIAhSURkwJAkIjJgSBIRGTAkiYgMGJJERAYMSSIiA4YkEZEBQ5KIyIAhSURkYF3gwr5PRERxWJIkIjJgSBIRGTAkiYgMGJJERAYMSSIiA4YkEZEBQ5KIyIAhSURkwJAkIjJgSBIRGTAkiYgMGJJERAYMSSIiA4YkEZEBQ5KIyIAhSURkwJAkIjJgSBIRJQX8F3CLApTy2X73AAAAAElFTkSuQmCC)"
      ],
      "metadata": {
        "id": "psTkLAPtbL8y"
      }
    },
    {
      "cell_type": "code",
      "source": [
        "from google.colab import files\n",
        "import matplotlib.pyplot as plt\n",
        "import matplotlib.image as mpimg\n",
        "\n",
        "# 파일 불러오기 및 화면에 표시\n",
        "img = mpimg.imread('mynumber.png')\n",
        "plt.imshow(img)\n",
        "plt.axis('off')\n",
        "plt.show()"
      ],
      "metadata": {
        "colab": {
          "base_uri": "https://localhost:8080/",
          "height": 406
        },
        "id": "3pFyWetFbOyE",
        "outputId": "2b9d5bd5-9515-4aa1-b872-785174e6965f"
      },
      "execution_count": 14,
      "outputs": [
        {
          "output_type": "display_data",
          "data": {
            "text/plain": [
              "<Figure size 640x480 with 1 Axes>"
            ],
            "image/png": "[encoded data removed]"
          },
          "metadata": {}
        }
      ]
    },
    {
      "cell_type": "code",
      "source": [
        "# 이미지 불러오기 및 전처리\n",
        "\n",
        "from tensorflow.keras.preprocessing.image import img_to_array, load_img\n",
        "\n",
        "img = load_img('mynumber.png', target_size=(28, 28), color_mode='grayscale')\n",
        "img_array = img_to_array(img)\n",
        "img_array = img_array.astype('float32') / 255.0\n",
        "img_array = img_array.reshape(1, 784)\n",
        "\n",
        "# 모델 예측\n",
        "prediction = model.predict(img_array)\n",
        "predicted_label = np.argmax(prediction)\n",
        "\n",
        "# 결과 표시\n",
        "plt.imshow(img_array.reshape(28, 28), cmap='gray')\n",
        "plt.title(f\"Predicted Label: {predicted_label}\")\n",
        "plt.axis('off')\n",
        "plt.show()"
      ],
      "metadata": {
        "colab": {
          "base_uri": "https://localhost:8080/",
          "height": 446
        },
        "id": "hajLXcfDbpRr",
        "outputId": "8a877af1-b93b-4a07-a46a-c5cd61b1c52f"
      },
      "execution_count": 15,
      "outputs": [
        {
          "output_type": "stream",
          "name": "stdout",
          "text": [
            "1/1 [==============================] - 0s 18ms/step\n"
          ]
        },
        {
          "output_type": "display_data",
          "data": {
            "text/plain": [
              "<Figure size 640x480 with 1 Axes>"
            ],
            "image/png": "[encoded data removed]"
          },
          "metadata": {}
        }
      ]
    },
    {
      "cell_type": "markdown",
      "source": [
        "###왜 틀렸을까?\n",
        "\n",
        "우리의 이미지와 mnist 데이터의 차이를 찾아보자"
      ],
      "metadata": {
        "id": "y7xSX2lyeLrI"
      }
    },
    {
      "cell_type": "code",
      "source": [
        "# 이미지 데이터 출력\n",
        "for x in img_array:\n",
        "    for i in x:\n",
        "        sys.stdout.write(\"%-3s\" % i)  # [0, 1] 범위의 값을 [0, 255] 범위로 변환\n",
        "    sys.stdout.write('\\n')"
      ],
      "metadata": {
        "colab": {
          "base_uri": "https://localhost:8080/"
        },
        "id": "CffA1ZADfUG6",
        "outputId": "16de9781-0547-48b2-b9ab-868b8d778f03"
      },
      "execution_count": 16,
      "outputs": [
        {
          "output_type": "stream",
          "name": "stdout",
          "text": [
            "1.01.01.01.01.01.01.01.01.01.01.01.01.01.01.01.01.01.01.01.01.01.01.01.01.01.01.01.01.01.01.01.01.01.01.01.01.01.01.01.01.01.01.01.01.01.01.01.01.01.01.01.01.01.01.01.01.01.01.01.01.01.01.01.00.847058830.623529430.52941180.52941180.48627450.48627450.509803950.75294121.01.01.01.01.01.01.01.01.01.01.01.01.01.01.01.01.00.6549020.494117650.494117650.494117650.494117650.494117650.494117650.494117650.494117650.494117650.494117650.494117651.01.01.01.01.01.01.01.01.01.01.01.01.01.00.647058840.494117650.494117650.494117650.494117650.494117650.48627450.48627450.50196080.50196080.50196080.490196080.494117650.494117650.48627451.01.01.01.01.01.01.01.01.01.01.01.01.00.52549020.494117650.494117650.48627450.658823550.968627451.01.01.01.01.01.00.494117650.494117650.494117651.01.01.01.01.01.01.01.01.01.01.01.01.01.00.51372550.86666671.01.01.01.01.01.01.01.01.01.00.494117650.494117650.96470591.01.01.01.01.01.01.01.01.01.01.01.01.01.01.01.01.01.01.01.01.01.01.01.00.48627450.494117650.494117650.97647061.01.01.01.01.01.01.01.01.01.01.01.01.01.01.01.01.01.01.01.01.01.00.6274510.494117650.494117650.494117650.48627451.01.01.01.01.01.01.01.01.01.01.01.01.01.01.01.01.01.01.00.780392170.458823530.38823530.403921570.470588240.470588240.494117650.490196081.01.01.01.01.01.01.01.01.01.01.01.01.01.01.01.01.01.01.01.00.83921570.368627460.368627460.368627460.368627460.368627460.431372550.494117650.490196080.9725491.01.01.01.01.01.01.01.01.01.01.01.01.01.01.01.01.01.00.9725490.360784320.380392160.407843140.490196080.494117650.494117650.494117650.494117650.494117650.490196080.97647061.01.01.01.01.01.01.01.01.01.01.01.01.01.01.01.01.01.01.01.01.01.00.77647060.48627450.494117650.494117650.494117650.494117650.75294121.01.01.01.01.01.01.01.01.01.01.01.01.01.01.01.01.01.01.01.01.01.01.01.00.50196080.494117650.494117650.494117650.69019611.01.01.01.01.01.01.01.01.01.01.01.01.01.01.01.01.01.01.01.01.01.01.01.00.858823540.494117650.494117650.494117650.69019611.01.01.01.01.01.01.01.01.01.01.01.01.01.01.01.01.01.01.01.01.01.01.01.00.847058830.494117650.494117650.494117651.01.01.01.01.01.01.01.01.01.01.01.01.01.01.01.01.01.01.01.01.01.01.01.01.00.8274510.494117650.494117650.584313751.01.01.01.01.01.01.01.01.01.01.01.01.01.01.01.01.01.01.01.01.01.01.01.01.00.48627450.494117650.48627451.01.01.01.01.01.01.01.01.01.01.01.01.01.01.01.01.01.01.01.01.01.01.01.01.00.545098070.494117650.494117651.01.01.01.01.01.00.54117650.545098070.533333361.01.01.01.01.01.01.01.01.01.01.01.01.01.01.01.00.52941180.494117650.494117651.01.01.01.01.01.00.490196080.494117650.482352941.01.01.01.01.01.01.01.01.01.01.01.01.01.01.01.00.490196080.494117650.490196081.01.01.01.01.01.00.48627450.494117650.48627451.01.01.01.01.01.01.01.01.01.01.01.01.01.01.00.819607850.494117650.494117650.545098071.01.01.01.01.01.00.50196080.494117650.470588240.9725491.01.01.01.01.01.01.01.01.01.01.01.01.00.52549020.494117650.494117650.494117651.01.01.01.01.01.01.00.71372550.494117650.494117650.494117650.482352940.545098070.709803940.98823531.01.01.01.01.01.00.90980390.53725490.490196080.494117650.490196080.494117650.694117671.01.01.01.01.01.01.01.00.48627450.494117650.494117650.494117650.494117650.494117650.494117650.494117650.494117650.494117650.494117650.494117650.494117650.494117650.494117650.494117650.494117650.560784340.968627451.01.01.01.01.01.01.01.01.01.01.00.768627460.53725490.48627450.494117650.494117650.494117650.494117650.494117650.494117650.494117650.494117650.494117650.490196080.52941180.980392161.01.01.01.01.01.01.01.01.01.01.01.01.01.01.01.01.00.92549020.819607850.819607850.819607850.819607850.870588240.933333341.01.01.01.01.01.01.01.01.01.01.01.01.01.01.01.01.01.01.01.01.01.01.01.01.01.01.01.01.01.01.01.01.01.01.01.01.01.01.0\n"
          ]
        }
      ]
    },
    {
      "cell_type": "code",
      "source": [
        "#우리의 데이터를 테스트 데이터와 유사하게  변환하기\n",
        "\n",
        "# 이미지 불러오기\n",
        "img = load_img('mynumber.png', target_size=(28, 28), color_mode='grayscale')\n",
        "img_array = img_to_array(img)\n",
        "img_array = img_array.astype('float32') / 255.0\n",
        "\n",
        "# 색상 반전\n",
        "img_array = np.where(img_array > 0.5, 0, 1)\n",
        "\n",
        "# 이미지를 모델 입력 형태로 변환\n",
        "img_array_reshaped = img_array.reshape(1, 784)\n",
        "\n",
        "# 모델 예측\n",
        "prediction = model.predict(img_array_reshaped)\n",
        "predicted_label = np.argmax(prediction)\n",
        "\n",
        "# 결과 표시\n",
        "plt.imshow(img_array.reshape(28, 28), cmap='gray')\n",
        "plt.title(f\"Predicted Label: {predicted_label}\")\n",
        "plt.axis('off')\n",
        "plt.show()"
      ],
      "metadata": {
        "colab": {
          "base_uri": "https://localhost:8080/",
          "height": 446
        },
        "id": "iDF-Q3zJc-X3",
        "outputId": "bfbe0cea-a521-4d07-ede4-04d51bf5ed61"
      },
      "execution_count": 17,
      "outputs": [
        {
          "output_type": "stream",
          "name": "stdout",
          "text": [
            "1/1 [==============================] - 0s 49ms/step\n"
          ]
        },
        {
          "output_type": "display_data",
          "data": {
            "text/plain": [
              "<Figure size 640x480 with 1 Axes>"
            ],
            "image/png": "[encoded data removed]"
          },
          "metadata": {}
        }
      ]
    },
    {
      "cell_type": "markdown",
      "metadata": {
        "id": "SqupvrChHps6"
      },
      "source": [
        "## 5. 컨볼루션 신경망 실행하기"
      ]
    },
    {
      "cell_type": "code",
      "execution_count": 18,
      "metadata": {
        "id": "aJa-27qAHps7",
        "outputId": "46275b8b-79fc-4cea-a9ae-c5f3d60a4dc8",
        "colab": {
          "base_uri": "https://localhost:8080/"
        }
      },
      "outputs": [
        {
          "output_type": "stream",
          "name": "stdout",
          "text": [
            "\n",
            "Epoch 1: val_loss improved from inf to 0.08261, saving model to ./MNIST_CNN.hdf5\n",
            "\n",
            "Epoch 2: val_loss improved from 0.08261 to 0.05924, saving model to ./MNIST_CNN.hdf5\n",
            "\n",
            "Epoch 3: val_loss improved from 0.05924 to 0.05067, saving model to ./MNIST_CNN.hdf5\n",
            "\n",
            "Epoch 4: val_loss improved from 0.05067 to 0.04665, saving model to ./MNIST_CNN.hdf5\n",
            "\n",
            "Epoch 5: val_loss improved from 0.04665 to 0.04590, saving model to ./MNIST_CNN.hdf5\n",
            "\n",
            "Epoch 6: val_loss improved from 0.04590 to 0.04095, saving model to ./MNIST_CNN.hdf5\n",
            "\n",
            "Epoch 7: val_loss improved from 0.04095 to 0.04072, saving model to ./MNIST_CNN.hdf5\n",
            "\n",
            "Epoch 8: val_loss did not improve from 0.04072\n",
            "\n",
            "Epoch 9: val_loss did not improve from 0.04072\n",
            "\n",
            "Epoch 10: val_loss did not improve from 0.04072\n",
            "\n",
            "Epoch 11: val_loss did not improve from 0.04072\n",
            "\n",
            "Epoch 12: val_loss improved from 0.04072 to 0.04060, saving model to ./MNIST_CNN.hdf5\n",
            "\n",
            "Epoch 13: val_loss did not improve from 0.04060\n",
            "\n",
            "Epoch 14: val_loss improved from 0.04060 to 0.04047, saving model to ./MNIST_CNN.hdf5\n",
            "\n",
            "Epoch 15: val_loss improved from 0.04047 to 0.03875, saving model to ./MNIST_CNN.hdf5\n",
            "\n",
            "Epoch 16: val_loss did not improve from 0.03875\n",
            "\n",
            "Epoch 17: val_loss did not improve from 0.03875\n",
            "\n",
            "Epoch 18: val_loss did not improve from 0.03875\n",
            "\n",
            "Epoch 19: val_loss did not improve from 0.03875\n",
            "\n",
            "Epoch 20: val_loss did not improve from 0.03875\n",
            "\n",
            "Epoch 21: val_loss did not improve from 0.03875\n",
            "\n",
            "Epoch 22: val_loss did not improve from 0.03875\n",
            "\n",
            "Epoch 23: val_loss did not improve from 0.03875\n",
            "\n",
            "Epoch 24: val_loss did not improve from 0.03875\n",
            "\n",
            "Epoch 25: val_loss did not improve from 0.03875\n",
            "313/313 [==============================] - 1s 3ms/step - loss: 0.0382 - accuracy: 0.9918\n",
            "\n",
            " Test Accuracy: 0.9918\n"
          ]
        }
      ],
      "source": [
        "from tensorflow.keras.models import Sequential\n",
        "from tensorflow.keras.layers import Dense, Dropout, Flatten, Conv2D, MaxPooling2D\n",
        "from tensorflow.keras.callbacks import ModelCheckpoint,EarlyStopping\n",
        "from tensorflow.keras.datasets import mnist\n",
        "from tensorflow.keras.utils import to_categorical\n",
        "\n",
        "import matplotlib.pyplot as plt\n",
        "import numpy as np\n",
        "\n",
        "# 데이터를 불러옵니다.\n",
        "(X_train, y_train), (X_test, y_test) = mnist.load_data()\n",
        "X_train = X_train.reshape(X_train.shape[0], 28, 28, 1).astype('float32') / 255\n",
        "X_test = X_test.reshape(X_test.shape[0], 28, 28, 1).astype('float32') / 255\n",
        "y_train = to_categorical(y_train)\n",
        "y_test = to_categorical(y_test)\n",
        "\n",
        "# 컨볼루션 신경망의 설정\n",
        "model = Sequential()\n",
        "model.add(Conv2D(32, kernel_size=(3, 3), input_shape=(28, 28, 1), activation='relu'))\n",
        "model.add(Conv2D(64, (3, 3), activation='relu'))\n",
        "model.add(MaxPooling2D(pool_size=(2,2)))\n",
        "model.add(Dropout(0.25))\n",
        "model.add(Flatten())\n",
        "model.add(Dense(128,  activation='relu'))\n",
        "model.add(Dropout(0.5))\n",
        "model.add(Dense(10, activation='softmax'))\n",
        "\n",
        "# 모델의 실행 옵션을 설정합니다.\n",
        "model.compile(loss='categorical_crossentropy',\n",
        "              optimizer='adam',\n",
        "              metrics=['accuracy'])\n",
        "\n",
        "# 모델 최적화를 위한 설정 구간입니다.\n",
        "modelpath=\"./MNIST_CNN.hdf5\"\n",
        "checkpointer = ModelCheckpoint(filepath=modelpath, monitor='val_loss', verbose=1, save_best_only=True)\n",
        "early_stopping_callback = EarlyStopping(monitor='val_loss', patience=10)\n",
        "\n",
        "# 모델을 실행합니다.\n",
        "history = model.fit(X_train, y_train, validation_split=0.25, epochs=30, batch_size=200, verbose=0, callbacks=[early_stopping_callback,checkpointer])\n",
        "\n",
        "# 테스트 정확도를 출력합니다.\n",
        "print(\"\\n Test Accuracy: %.4f\" % (model.evaluate(X_test, y_test)[1]))"
      ]
    },
    {
      "cell_type": "code",
      "execution_count": 19,
      "metadata": {
        "id": "pCGvCLddHps7",
        "outputId": "3c723b8c-0493-4686-9841-64251431e6c0",
        "colab": {
          "base_uri": "https://localhost:8080/",
          "height": 449
        }
      },
      "outputs": [
        {
          "output_type": "display_data",
          "data": {
            "text/plain": [
              "<Figure size 640x480 with 1 Axes>"
            ],
            "image/png": "[encoded data removed]"
          },
          "metadata": {}
        }
      ],
      "source": [
        "# 검증셋과 학습셋의 오차를 저장합니다.\n",
        "y_vloss = history.history['val_loss']\n",
        "y_loss = history.history['loss']\n",
        "\n",
        "# 그래프로 표현해 봅니다.\n",
        "x_len = np.arange(len(y_loss))\n",
        "plt.plot(x_len, y_vloss, marker='.', c=\"red\", label='Testset_loss')\n",
        "plt.plot(x_len, y_loss, marker='.', c=\"blue\", label='Trainset_loss')\n",
        "\n",
        "# 그래프에 그리드를 주고 레이블을 표시하겠습니다.\n",
        "plt.legend(loc='upper right')\n",
        "plt.grid()\n",
        "plt.xlabel('epoch')\n",
        "plt.ylabel('loss')\n",
        "plt.show()"
      ]
    }
  ],
  "metadata": {
    "colab": {
      "provenance": [],
      "gpuType": "T4",
      "include_colab_link": true
    },
    "kernelspec": {
      "display_name": "Python 3",
      "name": "python3"
    },
    "language_info": {
      "codemirror_mode": {
        "name": "ipython",
        "version": 3
      },
      "file_extension": ".py",
      "mimetype": "text/x-python",
      "name": "python",
      "nbconvert_exporter": "python",
      "pygments_lexer": "ipython3",
      "version": "3.9.7"
    },
    "accelerator": "GPU"
  },
  "nbformat": 4,
  "nbformat_minor": 0
}