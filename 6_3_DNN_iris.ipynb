{
  "nbformat": 4,
  "nbformat_minor": 0,
  "metadata": {
    "colab": {
      "provenance": [],
      "authorship_tag": "ABX9TyMEYdfi5nCIV1dpaZzIPree",
      "include_colab_link": true
    },
    "kernelspec": {
      "name": "python3",
      "display_name": "Python 3"
    },
    "language_info": {
      "name": "python"
    }
  },
  "cells": [
    {
      "cell_type": "markdown",
      "metadata": {
        "id": "view-in-github",
        "colab_type": "text"
      },
      "source": [
        "<a href=\"https://colab.research.google.com/github/yleessam/dl/blob/main/6_3_DNN_iris.ipynb\" target=\"_parent\"><img src=\"https://colab.research.google.com/assets/colab-badge.svg\" alt=\"Open In Colab\"/></a>"
      ]
    },
    {
      "cell_type": "markdown",
      "source": [
        "6.3 실습 - 인공신경망 학습"
      ],
      "metadata": {
        "id": "H7rTsvQ5mVZM"
      }
    },
    {
      "cell_type": "markdown",
      "source": [
        "\n",
        "6.3.1 인공신경망 학습하기 - 기본"
      ],
      "metadata": {
        "id": "T6XVPSjrmX7U"
      }
    },
    {
      "cell_type": "code",
      "source": [
        "import numpy as np\n",
        "import pandas as pd\n",
        "import matplotlib.pyplot as plt\n",
        "import seaborn as sns\n",
        "\n",
        "from sklearn.datasets import load_iris\n",
        "from sklearn.model_selection import train_test_split\n",
        "\n",
        "import tensorflow as tf\n",
        "\n",
        "from tensorflow.keras.models import Sequential\n",
        "from tensorflow.keras.layers import Dense"
      ],
      "metadata": {
        "id": "OGLkaiWGmYrA"
      },
      "execution_count": null,
      "outputs": []
    },
    {
      "cell_type": "code",
      "source": [
        "tf.__version__"
      ],
      "metadata": {
        "colab": {
          "base_uri": "https://localhost:8080/",
          "height": 36
        },
        "id": "wgd1Bb2smdbr",
        "outputId": "7fd82288-0184-4176-9711-dcf37d358fc5"
      },
      "execution_count": null,
      "outputs": [
        {
          "output_type": "execute_result",
          "data": {
            "text/plain": [
              "'2.12.0'"
            ],
            "application/vnd.google.colaboratory.intrinsic+json": {
              "type": "string"
            }
          },
          "metadata": {},
          "execution_count": 2
        }
      ]
    },
    {
      "cell_type": "code",
      "source": [
        "# 데이터 불러오기\n",
        "iris = load_iris()\n",
        "df = pd.DataFrame(data=iris.data, columns=iris.feature_names)\n",
        "df['label'] = iris.target"
      ],
      "metadata": {
        "id": "Mfrgjut9mgi4"
      },
      "execution_count": null,
      "outputs": []
    },
    {
      "cell_type": "code",
      "source": [
        "# 데이터분할\n",
        "y = df['label']\n",
        "X = df.drop(['label'], axis=1)\n",
        "\n",
        "X_train, X_test, y_train, y_test = train_test_split(X, y, random_state=42, stratify=y)"
      ],
      "metadata": {
        "id": "AYhOTTg-mkWF"
      },
      "execution_count": null,
      "outputs": []
    },
    {
      "cell_type": "code",
      "source": [
        "X_train.shape"
      ],
      "metadata": {
        "colab": {
          "base_uri": "https://localhost:8080/"
        },
        "id": "4c1zH9rVmm3T",
        "outputId": "739971bf-d6df-4595-bf21-0ed25ab1c8d0"
      },
      "execution_count": null,
      "outputs": [
        {
          "output_type": "execute_result",
          "data": {
            "text/plain": [
              "(112, 4)"
            ]
          },
          "metadata": {},
          "execution_count": 5
        }
      ]
    },
    {
      "cell_type": "code",
      "source": [
        "# 모델의 설정\n",
        "model = Sequential()\n",
        "model.add(Dense(8, input_dim=4, activation='relu'))\n",
        "model.add(Dense(3, activation='softmax'))"
      ],
      "metadata": {
        "id": "vcbu6yIBmpHc"
      },
      "execution_count": null,
      "outputs": []
    },
    {
      "cell_type": "code",
      "source": [
        "# 모델 컴파일\n",
        "model.compile(loss='sparse_categorical_crossentropy',\n",
        "            optimizer='adam',\n",
        "            metrics=['accuracy'])"
      ],
      "metadata": {
        "id": "ridQSBm-msEk"
      },
      "execution_count": null,
      "outputs": []
    },
    {
      "cell_type": "code",
      "source": [
        "\n",
        "model.summary()"
      ],
      "metadata": {
        "colab": {
          "base_uri": "https://localhost:8080/"
        },
        "id": "3HS-OkJhmuMc",
        "outputId": "bf7cf745-367d-43e8-d9fc-88c91099cefe"
      },
      "execution_count": null,
      "outputs": [
        {
          "output_type": "stream",
          "name": "stdout",
          "text": [
            "Model: \"sequential\"\n",
            "_________________________________________________________________\n",
            " Layer (type)                Output Shape              Param #   \n",
            "=================================================================\n",
            " dense (Dense)               (None, 8)                 40        \n",
            "                                                                 \n",
            " dense_1 (Dense)             (None, 3)                 27        \n",
            "                                                                 \n",
            "=================================================================\n",
            "Total params: 67\n",
            "Trainable params: 67\n",
            "Non-trainable params: 0\n",
            "_________________________________________________________________\n"
          ]
        }
      ]
    },
    {
      "cell_type": "code",
      "source": [
        "# 모델 실행\n",
        "model.fit(X_train, y_train, epochs=50, batch_size=4)"
      ],
      "metadata": {
        "colab": {
          "base_uri": "https://localhost:8080/"
        },
        "id": "T6r1fea3mw4t",
        "outputId": "a2be6b69-8024-4377-9003-d0c9f7f25f79"
      },
      "execution_count": null,
      "outputs": [
        {
          "output_type": "stream",
          "name": "stdout",
          "text": [
            "Epoch 1/50\n",
            "28/28 [==============================] - 1s 2ms/step - loss: 2.3377 - accuracy: 0.3304 \n",
            "Epoch 2/50\n",
            "28/28 [==============================] - 0s 2ms/step - loss: 2.0251 - accuracy: 0.3304\n",
            "Epoch 3/50\n",
            "28/28 [==============================] - 0s 2ms/step - loss: 1.7296 - accuracy: 0.3304\n",
            "Epoch 4/50\n",
            "28/28 [==============================] - 0s 2ms/step - loss: 1.4659 - accuracy: 0.3304\n",
            "Epoch 5/50\n",
            "28/28 [==============================] - 0s 2ms/step - loss: 1.2376 - accuracy: 0.3393\n",
            "Epoch 6/50\n",
            "28/28 [==============================] - 0s 2ms/step - loss: 1.0960 - accuracy: 0.4554\n",
            "Epoch 7/50\n",
            "28/28 [==============================] - 0s 2ms/step - loss: 1.0199 - accuracy: 0.5625\n",
            "Epoch 8/50\n",
            "28/28 [==============================] - 0s 2ms/step - loss: 0.9630 - accuracy: 0.6161\n",
            "Epoch 9/50\n",
            "28/28 [==============================] - 0s 2ms/step - loss: 0.9165 - accuracy: 0.5179\n",
            "Epoch 10/50\n",
            "28/28 [==============================] - 0s 2ms/step - loss: 0.8804 - accuracy: 0.6339\n",
            "Epoch 11/50\n",
            "28/28 [==============================] - 0s 2ms/step - loss: 0.8415 - accuracy: 0.7768\n",
            "Epoch 12/50\n",
            "28/28 [==============================] - 0s 2ms/step - loss: 0.8074 - accuracy: 0.7232\n",
            "Epoch 13/50\n",
            "28/28 [==============================] - 0s 2ms/step - loss: 0.7746 - accuracy: 0.6964\n",
            "Epoch 14/50\n",
            "28/28 [==============================] - 0s 2ms/step - loss: 0.7469 - accuracy: 0.7143\n",
            "Epoch 15/50\n",
            "28/28 [==============================] - 0s 3ms/step - loss: 0.7202 - accuracy: 0.7143\n",
            "Epoch 16/50\n",
            "28/28 [==============================] - 0s 3ms/step - loss: 0.6945 - accuracy: 0.6964\n",
            "Epoch 17/50\n",
            "28/28 [==============================] - 0s 3ms/step - loss: 0.6718 - accuracy: 0.7054\n",
            "Epoch 18/50\n",
            "28/28 [==============================] - 0s 3ms/step - loss: 0.6507 - accuracy: 0.7500\n",
            "Epoch 19/50\n",
            "28/28 [==============================] - 0s 3ms/step - loss: 0.6306 - accuracy: 0.7411\n",
            "Epoch 20/50\n",
            "28/28 [==============================] - 0s 3ms/step - loss: 0.6130 - accuracy: 0.7143\n",
            "Epoch 21/50\n",
            "28/28 [==============================] - 0s 3ms/step - loss: 0.5961 - accuracy: 0.7143\n",
            "Epoch 22/50\n",
            "28/28 [==============================] - 0s 3ms/step - loss: 0.5811 - accuracy: 0.8036\n",
            "Epoch 23/50\n",
            "28/28 [==============================] - 0s 4ms/step - loss: 0.5662 - accuracy: 0.8214\n",
            "Epoch 24/50\n",
            "28/28 [==============================] - 0s 3ms/step - loss: 0.5529 - accuracy: 0.8036\n",
            "Epoch 25/50\n",
            "28/28 [==============================] - 0s 3ms/step - loss: 0.5399 - accuracy: 0.8304\n",
            "Epoch 26/50\n",
            "28/28 [==============================] - 0s 3ms/step - loss: 0.5284 - accuracy: 0.8482\n",
            "Epoch 27/50\n",
            "28/28 [==============================] - 0s 3ms/step - loss: 0.5168 - accuracy: 0.8393\n",
            "Epoch 28/50\n",
            "28/28 [==============================] - 0s 3ms/step - loss: 0.5059 - accuracy: 0.8393\n",
            "Epoch 29/50\n",
            "28/28 [==============================] - 0s 2ms/step - loss: 0.4961 - accuracy: 0.8393\n",
            "Epoch 30/50\n",
            "28/28 [==============================] - 0s 3ms/step - loss: 0.4868 - accuracy: 0.8571\n",
            "Epoch 31/50\n",
            "28/28 [==============================] - 0s 3ms/step - loss: 0.4788 - accuracy: 0.9018\n",
            "Epoch 32/50\n",
            "28/28 [==============================] - 0s 3ms/step - loss: 0.4694 - accuracy: 0.9286\n",
            "Epoch 33/50\n",
            "28/28 [==============================] - 0s 3ms/step - loss: 0.4607 - accuracy: 0.9018\n",
            "Epoch 34/50\n",
            "28/28 [==============================] - 0s 3ms/step - loss: 0.4531 - accuracy: 0.9107\n",
            "Epoch 35/50\n",
            "28/28 [==============================] - 0s 3ms/step - loss: 0.4456 - accuracy: 0.9196\n",
            "Epoch 36/50\n",
            "28/28 [==============================] - 0s 3ms/step - loss: 0.4398 - accuracy: 0.8750\n",
            "Epoch 37/50\n",
            "28/28 [==============================] - 0s 3ms/step - loss: 0.4318 - accuracy: 0.9464\n",
            "Epoch 38/50\n",
            "28/28 [==============================] - 0s 3ms/step - loss: 0.4258 - accuracy: 0.9375\n",
            "Epoch 39/50\n",
            "28/28 [==============================] - 0s 2ms/step - loss: 0.4185 - accuracy: 0.9464\n",
            "Epoch 40/50\n",
            "28/28 [==============================] - 0s 2ms/step - loss: 0.4122 - accuracy: 0.9554\n",
            "Epoch 41/50\n",
            "28/28 [==============================] - 0s 3ms/step - loss: 0.4063 - accuracy: 0.9464\n",
            "Epoch 42/50\n",
            "28/28 [==============================] - 0s 3ms/step - loss: 0.4004 - accuracy: 0.9554\n",
            "Epoch 43/50\n",
            "28/28 [==============================] - 0s 3ms/step - loss: 0.3950 - accuracy: 0.9554\n",
            "Epoch 44/50\n",
            "28/28 [==============================] - 0s 3ms/step - loss: 0.3897 - accuracy: 0.9554\n",
            "Epoch 45/50\n",
            "28/28 [==============================] - 0s 3ms/step - loss: 0.3838 - accuracy: 0.9554\n",
            "Epoch 46/50\n",
            "28/28 [==============================] - 0s 3ms/step - loss: 0.3803 - accuracy: 0.9554\n",
            "Epoch 47/50\n",
            "28/28 [==============================] - 0s 3ms/step - loss: 0.3743 - accuracy: 0.9554\n",
            "Epoch 48/50\n",
            "28/28 [==============================] - 0s 2ms/step - loss: 0.3697 - accuracy: 0.9464\n",
            "Epoch 49/50\n",
            "28/28 [==============================] - 0s 2ms/step - loss: 0.3646 - accuracy: 0.9643\n",
            "Epoch 50/50\n",
            "28/28 [==============================] - 0s 2ms/step - loss: 0.3587 - accuracy: 0.9732\n"
          ]
        },
        {
          "output_type": "execute_result",
          "data": {
            "text/plain": [
              "<keras.callbacks.History at 0x7fe492d3db40>"
            ]
          },
          "metadata": {},
          "execution_count": 9
        }
      ]
    },
    {
      "cell_type": "code",
      "source": [
        "model.evaluate(X_test, y_test)"
      ],
      "metadata": {
        "colab": {
          "base_uri": "https://localhost:8080/"
        },
        "id": "Ab5RLzHCm0QZ",
        "outputId": "03b11fe0-89d4-48b7-cebf-c394d5001d7a"
      },
      "execution_count": null,
      "outputs": [
        {
          "output_type": "stream",
          "name": "stdout",
          "text": [
            "2/2 [==============================] - 0s 9ms/step - loss: 0.3803 - accuracy: 0.9737\n"
          ]
        },
        {
          "output_type": "execute_result",
          "data": {
            "text/plain": [
              "[0.38031232357025146, 0.9736841917037964]"
            ]
          },
          "metadata": {},
          "execution_count": 10
        }
      ]
    },
    {
      "cell_type": "code",
      "source": [
        "model.predict(X_test)[0]"
      ],
      "metadata": {
        "colab": {
          "base_uri": "https://localhost:8080/"
        },
        "id": "_EhujoLwm3bN",
        "outputId": "51d94b9b-35c8-42e1-88ab-538d8c36abdd"
      },
      "execution_count": null,
      "outputs": [
        {
          "output_type": "stream",
          "name": "stdout",
          "text": [
            "2/2 [==============================] - 0s 5ms/step\n"
          ]
        },
        {
          "output_type": "execute_result",
          "data": {
            "text/plain": [
              "array([0.91888595, 0.07630327, 0.00481078], dtype=float32)"
            ]
          },
          "metadata": {},
          "execution_count": 11
        }
      ]
    },
    {
      "cell_type": "code",
      "source": [
        "# 테스트 데이터로 예측한 값이 가장 큰 값을 반환(argmax)한 결과\n",
        "np.argmax(model.predict(X_test)[0])"
      ],
      "metadata": {
        "colab": {
          "base_uri": "https://localhost:8080/"
        },
        "id": "s8bLPUQGm5w4",
        "outputId": "2b060869-231b-4f3d-9e8a-36dba0ae0cae"
      },
      "execution_count": null,
      "outputs": [
        {
          "output_type": "stream",
          "name": "stdout",
          "text": [
            "2/2 [==============================] - 0s 9ms/step\n"
          ]
        },
        {
          "output_type": "execute_result",
          "data": {
            "text/plain": [
              "0"
            ]
          },
          "metadata": {},
          "execution_count": 12
        }
      ]
    },
    {
      "cell_type": "code",
      "source": [
        "# 테스트셋의 실제값\n",
        "y_test.iloc[0]"
      ],
      "metadata": {
        "colab": {
          "base_uri": "https://localhost:8080/"
        },
        "id": "Qd8O6u7Lm8Nx",
        "outputId": "5084571c-ccad-4154-d9c0-22ab59c7611d"
      },
      "execution_count": null,
      "outputs": [
        {
          "output_type": "execute_result",
          "data": {
            "text/plain": [
              "0"
            ]
          },
          "metadata": {},
          "execution_count": 13
        }
      ]
    },
    {
      "cell_type": "markdown",
      "source": [
        "전체 소스 코드"
      ],
      "metadata": {
        "id": "UTt86ueCm-wo"
      }
    },
    {
      "cell_type": "code",
      "source": [
        "import numpy as np\n",
        "import pandas as pd\n",
        "import matplotlib.pyplot as plt\n",
        "import seaborn as sns\n",
        "from sklearn.datasets import load_iris\n",
        "from sklearn.model_selection import train_test_split\n",
        "import tensorflow as tf\n",
        "from tensorflow.keras.models import Sequential\n",
        "from tensorflow.keras.layers import Dense\n",
        "\n",
        "# 데이터 불러오기\n",
        "iris = load_iris()\n",
        "df = pd.DataFrame(data=iris.data, columns=iris.feature_names)\n",
        "df['label'] = iris.target\n",
        "\n",
        "# 데이터분할\n",
        "y = df['label']\n",
        "X = df.drop(['label'], axis=1)\n",
        "\n",
        "X_train, X_test, y_train, y_test = train_test_split(X, y, random_state=42, stratify=y)\n",
        "\n",
        "# 모델의 설정\n",
        "model = Sequential()\n",
        "model.add(Dense(8, input_dim=4, activation='relu'))\n",
        "model.add(Dense(3, activation='softmax'))\n",
        "\n",
        "# 모델 컴파일\n",
        "model.compile(loss='sparse_categorical_crossentropy',\n",
        "            optimizer='adam',\n",
        "            metrics=['accuracy'])\n",
        "\n",
        "# 모델 실행\n",
        "model.fit(X_train, y_train, epochs=50, batch_size=4)\n",
        "\n",
        "# 모델 평가\n",
        "model.evaluate(X_test, y_test)\n",
        "\n",
        "# 값 예측\n",
        "model.predict(X_test)[0]"
      ],
      "metadata": {
        "colab": {
          "base_uri": "https://localhost:8080/"
        },
        "id": "Vwt79ERQm_Qm",
        "outputId": "28c6bae9-5769-42c3-ba9e-f410aa7a099a"
      },
      "execution_count": null,
      "outputs": [
        {
          "output_type": "stream",
          "name": "stdout",
          "text": [
            "Epoch 1/50\n",
            "28/28 [==============================] - 1s 2ms/step - loss: 3.4228 - accuracy: 0.3304\n",
            "Epoch 2/50\n",
            "28/28 [==============================] - 0s 2ms/step - loss: 2.4326 - accuracy: 0.3304\n",
            "Epoch 3/50\n",
            "28/28 [==============================] - 0s 2ms/step - loss: 1.9439 - accuracy: 0.3304\n",
            "Epoch 4/50\n",
            "28/28 [==============================] - 0s 2ms/step - loss: 1.6421 - accuracy: 0.3661\n",
            "Epoch 5/50\n",
            "28/28 [==============================] - 0s 2ms/step - loss: 1.3603 - accuracy: 0.4375\n",
            "Epoch 6/50\n",
            "28/28 [==============================] - 0s 2ms/step - loss: 1.1546 - accuracy: 0.6339\n",
            "Epoch 7/50\n",
            "28/28 [==============================] - 0s 2ms/step - loss: 1.0107 - accuracy: 0.6696\n",
            "Epoch 8/50\n",
            "28/28 [==============================] - 0s 2ms/step - loss: 0.9247 - accuracy: 0.6696\n",
            "Epoch 9/50\n",
            "28/28 [==============================] - 0s 3ms/step - loss: 0.8700 - accuracy: 0.6696\n",
            "Epoch 10/50\n",
            "28/28 [==============================] - 0s 2ms/step - loss: 0.8273 - accuracy: 0.6786\n",
            "Epoch 11/50\n",
            "28/28 [==============================] - 0s 2ms/step - loss: 0.7862 - accuracy: 0.6696\n",
            "Epoch 12/50\n",
            "28/28 [==============================] - 0s 2ms/step - loss: 0.7521 - accuracy: 0.6696\n",
            "Epoch 13/50\n",
            "28/28 [==============================] - 0s 2ms/step - loss: 0.7181 - accuracy: 0.7143\n",
            "Epoch 14/50\n",
            "28/28 [==============================] - 0s 2ms/step - loss: 0.6863 - accuracy: 0.7232\n",
            "Epoch 15/50\n",
            "28/28 [==============================] - 0s 2ms/step - loss: 0.6613 - accuracy: 0.7143\n",
            "Epoch 16/50\n",
            "28/28 [==============================] - 0s 2ms/step - loss: 0.6384 - accuracy: 0.7411\n",
            "Epoch 17/50\n",
            "28/28 [==============================] - 0s 2ms/step - loss: 0.6166 - accuracy: 0.7143\n",
            "Epoch 18/50\n",
            "28/28 [==============================] - 0s 2ms/step - loss: 0.5932 - accuracy: 0.8304\n",
            "Epoch 19/50\n",
            "28/28 [==============================] - 0s 2ms/step - loss: 0.5761 - accuracy: 0.7946\n",
            "Epoch 20/50\n",
            "28/28 [==============================] - 0s 2ms/step - loss: 0.5615 - accuracy: 0.8214\n",
            "Epoch 21/50\n",
            "28/28 [==============================] - 0s 2ms/step - loss: 0.5403 - accuracy: 0.8661\n",
            "Epoch 22/50\n",
            "28/28 [==============================] - 0s 2ms/step - loss: 0.5255 - accuracy: 0.8393\n",
            "Epoch 23/50\n",
            "28/28 [==============================] - 0s 2ms/step - loss: 0.5136 - accuracy: 0.9196\n",
            "Epoch 24/50\n",
            "28/28 [==============================] - 0s 2ms/step - loss: 0.5004 - accuracy: 0.8661\n",
            "Epoch 25/50\n",
            "28/28 [==============================] - 0s 2ms/step - loss: 0.4881 - accuracy: 0.9196\n",
            "Epoch 26/50\n",
            "28/28 [==============================] - 0s 2ms/step - loss: 0.4809 - accuracy: 0.9286\n",
            "Epoch 27/50\n",
            "28/28 [==============================] - 0s 2ms/step - loss: 0.4650 - accuracy: 0.9196\n",
            "Epoch 28/50\n",
            "28/28 [==============================] - 0s 2ms/step - loss: 0.4570 - accuracy: 0.9375\n",
            "Epoch 29/50\n",
            "28/28 [==============================] - 0s 3ms/step - loss: 0.4460 - accuracy: 0.9375\n",
            "Epoch 30/50\n",
            "28/28 [==============================] - 0s 2ms/step - loss: 0.4405 - accuracy: 0.9107\n",
            "Epoch 31/50\n",
            "28/28 [==============================] - 0s 2ms/step - loss: 0.4294 - accuracy: 0.9554\n",
            "Epoch 32/50\n",
            "28/28 [==============================] - 0s 2ms/step - loss: 0.4200 - accuracy: 0.9375\n",
            "Epoch 33/50\n",
            "28/28 [==============================] - 0s 2ms/step - loss: 0.4141 - accuracy: 0.9554\n",
            "Epoch 34/50\n",
            "28/28 [==============================] - 0s 2ms/step - loss: 0.4078 - accuracy: 0.9643\n",
            "Epoch 35/50\n",
            "28/28 [==============================] - 0s 2ms/step - loss: 0.4010 - accuracy: 0.9375\n",
            "Epoch 36/50\n",
            "28/28 [==============================] - 0s 2ms/step - loss: 0.3953 - accuracy: 0.9554\n",
            "Epoch 37/50\n",
            "28/28 [==============================] - 0s 2ms/step - loss: 0.3830 - accuracy: 0.9464\n",
            "Epoch 38/50\n",
            "28/28 [==============================] - 0s 2ms/step - loss: 0.3798 - accuracy: 0.9464\n",
            "Epoch 39/50\n",
            "28/28 [==============================] - 0s 2ms/step - loss: 0.3701 - accuracy: 0.9554\n",
            "Epoch 40/50\n",
            "28/28 [==============================] - 0s 2ms/step - loss: 0.3678 - accuracy: 0.9643\n",
            "Epoch 41/50\n",
            "28/28 [==============================] - 0s 2ms/step - loss: 0.3593 - accuracy: 0.9554\n",
            "Epoch 42/50\n",
            "28/28 [==============================] - 0s 2ms/step - loss: 0.3515 - accuracy: 0.9643\n",
            "Epoch 43/50\n",
            "28/28 [==============================] - 0s 2ms/step - loss: 0.3473 - accuracy: 0.9643\n",
            "Epoch 44/50\n",
            "28/28 [==============================] - 0s 2ms/step - loss: 0.3450 - accuracy: 0.9643\n",
            "Epoch 45/50\n",
            "28/28 [==============================] - 0s 2ms/step - loss: 0.3361 - accuracy: 0.9643\n",
            "Epoch 46/50\n",
            "28/28 [==============================] - 0s 2ms/step - loss: 0.3301 - accuracy: 0.9643\n",
            "Epoch 47/50\n",
            "28/28 [==============================] - 0s 2ms/step - loss: 0.3240 - accuracy: 0.9643\n",
            "Epoch 48/50\n",
            "28/28 [==============================] - 0s 2ms/step - loss: 0.3184 - accuracy: 0.9643\n",
            "Epoch 49/50\n",
            "28/28 [==============================] - 0s 2ms/step - loss: 0.3136 - accuracy: 0.9643\n",
            "Epoch 50/50\n",
            "28/28 [==============================] - 0s 2ms/step - loss: 0.3086 - accuracy: 0.9643\n",
            "2/2 [==============================] - 0s 9ms/step - loss: 0.3253 - accuracy: 0.9737\n",
            "2/2 [==============================] - 0s 5ms/step\n"
          ]
        },
        {
          "output_type": "execute_result",
          "data": {
            "text/plain": [
              "array([0.93984336, 0.05913699, 0.00101981], dtype=float32)"
            ]
          },
          "metadata": {},
          "execution_count": 14
        }
      ]
    }
  ]
}