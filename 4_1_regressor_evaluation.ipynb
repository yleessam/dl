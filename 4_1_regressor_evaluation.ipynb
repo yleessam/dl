{
  "cells": [
    {
      "cell_type": "markdown",
      "metadata": {
        "id": "view-in-github",
        "colab_type": "text"
      },
      "source": [
        "<a href=\"https://colab.research.google.com/github/yleessam/dl/blob/main/4_1_regressor_evaluation.ipynb\" target=\"_parent\"><img src=\"https://colab.research.google.com/assets/colab-badge.svg\" alt=\"Open In Colab\"/></a>"
      ]
    },
    {
      "cell_type": "markdown",
      "metadata": {
        "id": "p-b5jxpqgiOc"
      },
      "source": [
        "# 회귀 모델의 평가 방법"
      ]
    },
    {
      "cell_type": "markdown",
      "metadata": {
        "id": "P9xPT4NIgiOg"
      },
      "source": [
        "## 4.1.3 MSE(Mean Squared Error)"
      ]
    },
    {
      "cell_type": "code",
      "execution_count": 1,
      "metadata": {
        "colab": {
          "base_uri": "https://localhost:8080/"
        },
        "id": "314QUdLmgiOg",
        "outputId": "6bcc2e44-02a8-493c-dab5-750b49a5117a"
      },
      "outputs": [
        {
          "output_type": "execute_result",
          "data": {
            "text/plain": [
              "0.036666666666666674"
            ]
          },
          "metadata": {},
          "execution_count": 1
        }
      ],
      "source": [
        "from sklearn.metrics import mean_squared_error\n",
        "y_true = [0, 1, 2, 3, 4, 5]\n",
        "y_pred = [0, 1.2, 2.3, 2.9, 3.8, 5.2]\n",
        "\n",
        "# MSE 연산 결과\n",
        "mean_squared_error(y_true, y_pred)"
      ]
    },
    {
      "cell_type": "code",
      "execution_count": 2,
      "metadata": {
        "colab": {
          "base_uri": "https://localhost:8080/"
        },
        "id": "yaloa_B8giOi",
        "outputId": "7446ee28-6f00-4ed9-83c5-3ac4eff883e4"
      },
      "outputs": [
        {
          "output_type": "execute_result",
          "data": {
            "text/plain": [
              "0.19148542155126763"
            ]
          },
          "metadata": {},
          "execution_count": 2
        }
      ],
      "source": [
        "# RMSE 연산 결과\n",
        "mean_squared_error(y_true, y_pred, squared = False)"
      ]
    },
    {
      "cell_type": "markdown",
      "metadata": {
        "id": "jEeZCph4giOj"
      },
      "source": [
        "## 4.1.4 결정계수(R-Square)"
      ]
    },
    {
      "cell_type": "code",
      "execution_count": 3,
      "metadata": {
        "colab": {
          "base_uri": "https://localhost:8080/"
        },
        "id": "mXSFNP4-giOj",
        "outputId": "be6e69a8-6067-4553-de92-16e376b43530"
      },
      "outputs": [
        {
          "output_type": "execute_result",
          "data": {
            "text/plain": [
              "0.9874285714285714"
            ]
          },
          "metadata": {},
          "execution_count": 3
        }
      ],
      "source": [
        "from sklearn.metrics import r2_score\n",
        "\n",
        "y_true = [0, 1, 2, 3, 4, 5]\n",
        "y_pred = [0, 1.2, 2.3, 2.9, 3.8, 5.2]\n",
        "# 결정계수 연산 결과\n",
        "r2_score(y_true, y_pred)"
      ]
    },
    {
      "cell_type": "code",
      "execution_count": 4,
      "metadata": {
        "colab": {
          "base_uri": "https://localhost:8080/"
        },
        "id": "JzwAqsqagiOk",
        "outputId": "940928fa-d91d-4a64-cf13-334ddca730fe"
      },
      "outputs": [
        {
          "output_type": "execute_result",
          "data": {
            "text/plain": [
              "1.0"
            ]
          },
          "metadata": {},
          "execution_count": 4
        }
      ],
      "source": [
        "y_true = [0, 1, 2, 3, 4, 5]\n",
        "y_pred = [0, 1, 2, 3, 4, 5]\n",
        "# 동일한 값을 가지는 두 데이터의 결정계수 연산 결과\n",
        "r2_score(y_true, y_pred)"
      ]
    },
    {
      "cell_type": "code",
      "execution_count": 5,
      "metadata": {
        "colab": {
          "base_uri": "https://localhost:8080/"
        },
        "id": "w2bS_huygiOl",
        "outputId": "f0ee9ee8-e187-4d8f-c515-0b393daf5c48"
      },
      "outputs": [
        {
          "output_type": "execute_result",
          "data": {
            "text/plain": [
              "0.8285714285714285"
            ]
          },
          "metadata": {},
          "execution_count": 5
        }
      ],
      "source": [
        "y_true = [0, 1, 2, 3, 4, 5]\n",
        "y_pred = [0, 1, 1, 3, 3, 4]\n",
        "# 결정계수 연산 결과\n",
        "r2_score(y_true, y_pred)"
      ]
    },
    {
      "cell_type": "code",
      "execution_count": 5,
      "metadata": {
        "id": "0WhHxCSlgiOl"
      },
      "outputs": [],
      "source": []
    }
  ],
  "metadata": {
    "kernelspec": {
      "display_name": "Python 3",
      "language": "python",
      "name": "python3"
    },
    "language_info": {
      "codemirror_mode": {
        "name": "ipython",
        "version": 3
      },
      "file_extension": ".py",
      "mimetype": "text/x-python",
      "name": "python",
      "nbconvert_exporter": "python",
      "pygments_lexer": "ipython3",
      "version": "3.8.5"
    },
    "toc": {
      "base_numbering": 1,
      "nav_menu": {},
      "number_sections": false,
      "sideBar": true,
      "skip_h1_title": false,
      "title_cell": "Table of Contents",
      "title_sidebar": "Contents",
      "toc_cell": false,
      "toc_position": {},
      "toc_section_display": true,
      "toc_window_display": false
    },
    "colab": {
      "provenance": [],
      "include_colab_link": true
    }
  },
  "nbformat": 4,
  "nbformat_minor": 0
}